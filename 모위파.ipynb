{
 "cells": [
  {
   "cell_type": "code",
   "execution_count": 18,
   "metadata": {},
   "outputs": [
    {
     "name": "stdout",
     "output_type": "stream",
     "text": [
      "*    *    *    *    *     \n",
      " \"Korea University\" \n",
      " ******************\n"
     ]
    }
   ],
   "source": [
    "print('*    '*5,'\\n','\"Korea University\"', '\\n', '*'*18)"
   ]
  },
  {
   "cell_type": "code",
   "execution_count": 19,
   "metadata": {},
   "outputs": [
    {
     "name": "stdout",
     "output_type": "stream",
     "text": [
      "It's OK\n"
     ]
    }
   ],
   "source": [
    "print(\"It\\'s OK\")"
   ]
  },
  {
   "cell_type": "code",
   "execution_count": 20,
   "metadata": {},
   "outputs": [
    {
     "name": "stdout",
     "output_type": "stream",
     "text": [
      "나는 자랑스런 태극기 앞에\n",
      "조국과 민족의 무궁한 영광을 위하여 몸과 마음을\n",
      "바쳐 충성을 다할 것을 굳게 다짐합니다\n"
     ]
    }
   ],
   "source": [
    "print('나는 자랑스런 태극기 앞에\\n조국과 민족의 무궁한 영광을 위하여 몸과 마음을\\n바쳐 충성을 다할 것을 굳게 다짐합니다')"
   ]
  },
  {
   "cell_type": "code",
   "execution_count": 22,
   "metadata": {},
   "outputs": [
    {
     "name": "stdout",
     "output_type": "stream",
     "text": [
      "\n",
      "It's OK.\n",
      "I'm Happy.\n",
      "See you.\n"
     ]
    }
   ],
   "source": [
    "# 문자열 여러개 출력 > 쌍따옴표 3개 이용 \n",
    "\n",
    "a = \"\"\"\n",
    "It's OK.\n",
    "I'm Happy.\n",
    "See you.\"\"\"\n",
    "\n",
    "print(a)"
   ]
  },
  {
   "cell_type": "code",
   "execution_count": 25,
   "metadata": {},
   "outputs": [
    {
     "name": "stdout",
     "output_type": "stream",
     "text": [
      "이름을 입력하시오 : 홍길동\n",
      "나이를 입력하시오? : 32\n",
      "홍길동님의 나이는 27살 처럼 보입니다\n"
     ]
    }
   ],
   "source": [
    "name = input('이름을 입력하시오 : ')\n",
    "age = input('나이를 입력하시오? : ')\n",
    "\n",
    "print(name, '\\b님의 나이는', int(age)-5, '\\b살 처럼 보입니다')\n",
    "\n",
    "## 붙여서 출력하려면 \\b : 특수문자 기능(escape) 사용 !! "
   ]
  },
  {
   "cell_type": "code",
   "execution_count": 26,
   "metadata": {},
   "outputs": [
    {
     "name": "stdout",
     "output_type": "stream",
     "text": [
      "나이를 입력하시오 : 13\n",
      "나이는 13살 입니다. \n"
     ]
    }
   ],
   "source": [
    "## 문자열 포맷팅(문자열 서식) : 쉼표 쓰지말고 그냥 %변수 하기 !! \n",
    "\n",
    "age = input(\"나이를 입력하시오 : \")\n",
    "print('나이는 %s살 입니다. ' %age)"
   ]
  },
  {
   "cell_type": "code",
   "execution_count": 28,
   "metadata": {},
   "outputs": [
    {
     "name": "stdout",
     "output_type": "stream",
     "text": [
      "     KOREA\n",
      "University\n"
     ]
    }
   ],
   "source": [
    "# 문자열 정렬 \n",
    "\n",
    "print('%10s' % 'KOREA')\n",
    "print('%-10s' % 'University')"
   ]
  },
  {
   "cell_type": "code",
   "execution_count": 29,
   "metadata": {},
   "outputs": [
    {
     "name": "stdout",
     "output_type": "stream",
     "text": [
      "파이값은 약   3.142   입니다.\n"
     ]
    }
   ],
   "source": [
    "# 문자열 포맷팅 >> 다시 봐야할 듯 \n",
    "\n",
    "파이값 = 3.14159265\n",
    "print('파이값은 약 {0:^10.3f}입니다.'.format(파이값))"
   ]
  },
  {
   "cell_type": "code",
   "execution_count": 35,
   "metadata": {},
   "outputs": [
    {
     "name": "stdout",
     "output_type": "stream",
     "text": [
      "학번을 입력하세요 >>2019150471\n",
      "입학년도:       2019\n",
      "학생번호:     150471\n"
     ]
    }
   ],
   "source": [
    "# 문자열 슬라이싱과 서식을 이용해 다음 프로그램을 출력하기 \n",
    "\n",
    "num = input('학번을 입력하세요 >>')\n",
    "\n",
    "print('입학년도: %10s' %num[:4])\n",
    "print('학생번호: %10s' %num[4:])"
   ]
  },
  {
   "cell_type": "code",
   "execution_count": 37,
   "metadata": {},
   "outputs": [
    {
     "name": "stdout",
     "output_type": "stream",
     "text": [
      "-1은 참입니다\n",
      "a는 참입니다.\n"
     ]
    }
   ],
   "source": [
    "# 참(TRUE) 이란 비어있지 않거나 0이 아닌 모든 값을 말한다\n",
    "\n",
    "if -1 : \n",
    "    print('-1은 참입니다')\n",
    "    \n",
    "if 'a':\n",
    "    print('a는 참입니다.')       # 이딴식으로 if를 쓰는 사람도 있다니.. "
   ]
  },
  {
   "cell_type": "code",
   "execution_count": 38,
   "metadata": {},
   "outputs": [
    {
     "name": "stdout",
     "output_type": "stream",
     "text": [
      "\n",
      "\n",
      "*-*-*-*-*-*-*-*-*-*\n",
      "   HONGDAE CLUB \n",
      "*-*-*-*-*-*-*-*-*-*\n",
      "\n",
      "\n",
      "How old are you? 22\n",
      "Welcome to the club\n"
     ]
    }
   ],
   "source": [
    "print(\"\"\"             \n",
    "\n",
    "*-*-*-*-*-*-*-*-*-*\n",
    "   HONGDAE CLUB \n",
    "*-*-*-*-*-*-*-*-*-*\n",
    "\n",
    "\"\"\")      \n",
    "\n",
    "age = int(input('How old are you? '))\n",
    "\n",
    "if age <25:\n",
    "    print('Welcome to the club')\n",
    "else:\n",
    "    print('No way!! ')"
   ]
  },
  {
   "cell_type": "code",
   "execution_count": 39,
   "metadata": {},
   "outputs": [
    {
     "name": "stdout",
     "output_type": "stream",
     "text": [
      "숫자를 입력하시오 : 22\n",
      "짝수 입니다.\n"
     ]
    }
   ],
   "source": [
    "# 3항 조건 연산자 \n",
    "\n",
    "value = int(input('숫자를 입력하시오 : '))\n",
    "print('짝수 입니다.') if value % 2 == 0 else print('홀수입니다')"
   ]
  },
  {
   "cell_type": "code",
   "execution_count": 40,
   "metadata": {},
   "outputs": [
    {
     "name": "stdout",
     "output_type": "stream",
     "text": [
      "짝수\n"
     ]
    }
   ],
   "source": [
    "# 이것도 됨 (print문 안에 다 때려넣기 )\n",
    "\n",
    "print('짝수' if value % 2 == 0 else '홀수')       "
   ]
  },
  {
   "cell_type": "code",
   "execution_count": 41,
   "metadata": {},
   "outputs": [
    {
     "name": "stdout",
     "output_type": "stream",
     "text": [
      "점수를 입력하시오 : 65\n",
      "학점 : D\n"
     ]
    }
   ],
   "source": [
    "score = int(input('점수를 입력하시오 : '))\n",
    "hak = \"\"\n",
    "\n",
    "if 90 <= score <= 100:\n",
    "    hak = 'A'\n",
    "    \n",
    "else:\n",
    "    if 80 <= score <= 89:\n",
    "        hak = 'B'\n",
    "    elif 70 <= score <= 79:\n",
    "        hak = 'C'\n",
    "    elif 60 <= score <= 69:\n",
    "        hak = 'D'\n",
    "    else:\n",
    "        hak = 'F'\n",
    "print('학점 : %s' %hak)"
   ]
  },
  {
   "cell_type": "code",
   "execution_count": 44,
   "metadata": {},
   "outputs": [
    {
     "name": "stdout",
     "output_type": "stream",
     "text": [
      "_______________\n"
     ]
    }
   ],
   "source": [
    "# 언더바 함수 만들기 \n",
    "\n",
    "def under_bar():\n",
    "    print('_' * 15)\n",
    "    \n",
    "under_bar()"
   ]
  },
  {
   "cell_type": "code",
   "execution_count": 50,
   "metadata": {},
   "outputs": [
    {
     "name": "stdout",
     "output_type": "stream",
     "text": [
      "['서울', '부산', '인천', '대구', '대전', '광주', '울산', '수원']\n",
      "['서울', '부산']\n",
      "['서울', '인천', '대전', '울산']\n",
      "['수원', '울산', '광주', '대전', '대구', '인천', '부산', '서울']\n"
     ]
    }
   ],
   "source": [
    "# 리스트 인덱싱 (특히 마이너스)\n",
    "\n",
    "citys = ['서울', '부산', '인천', '대구', '대전', '광주', '울산', '수원']\n",
    "\n",
    "print(citys[-8:])     # 그냥 원래대로 출력함 (-8은 맨 처음이기 때문)\n",
    "print(citys[-8:2])    # 처음부터 두번째까지 \n",
    "\n",
    "# 리스트 보폭 이용하기\n",
    "print(citys[::2])     # 두번씩 징검다리 건너뛰면서 출력\n",
    "print(citys[::-1])    # 거꾸로 출력 "
   ]
  },
  {
   "cell_type": "code",
   "execution_count": 52,
   "metadata": {},
   "outputs": [
    {
     "name": "stdout",
     "output_type": "stream",
     "text": [
      "['서울', '부산', '인천', '대구', '대전', '광주', '울산', '수원', '개졸리네', '개졸리네']\n"
     ]
    }
   ],
   "source": [
    "# extend() : 새로운 리스트를 기존 리스트에 추가 \n",
    "# >> + 연산자와 동일한 기능 \n",
    "\n",
    "citys.extend(['개졸리네'])\n",
    "print(citys)"
   ]
  },
  {
   "cell_type": "code",
   "execution_count": 56,
   "metadata": {},
   "outputs": [
    {
     "name": "stdout",
     "output_type": "stream",
     "text": [
      "['서울', '개개개개개졸려', '개개개개개졸려', '개개개개개졸려', '부산', '인천', '대구', '대전', '광주', '울산', '수원', '개졸리네', '개졸리네']\n"
     ]
    }
   ],
   "source": [
    "# insert() : i번째 인덱스에 특정 원소 추가(하나씩 밀림)\n",
    "\n",
    "citys.insert(1, '개개개개개졸려')\n",
    "print(citys)"
   ]
  },
  {
   "cell_type": "code",
   "execution_count": 58,
   "metadata": {},
   "outputs": [
    {
     "name": "stdout",
     "output_type": "stream",
     "text": [
      "['서울', '개개개개개졸려', '개개개개개졸려', '부산', '인천', '대구', '대전', '광주', '울산', '수원', '개졸리네', '개졸리네']\n"
     ]
    }
   ],
   "source": [
    "# remove() : 특정 원소 지정해 삭제\n",
    "citys.remove('개개개개개졸려')\n",
    "print(citys)"
   ]
  },
  {
   "cell_type": "code",
   "execution_count": 61,
   "metadata": {},
   "outputs": [
    {
     "name": "stdout",
     "output_type": "stream",
     "text": [
      "['개개개개개졸려', '부산', '인천', '대구', '대전', '광주', '울산', '수원', '개졸리네', '개졸리네']\n"
     ]
    }
   ],
   "source": [
    "# del : 인덱스로 삭제\n",
    "del citys[0]\n",
    "print(citys)"
   ]
  },
  {
   "cell_type": "code",
   "execution_count": 67,
   "metadata": {},
   "outputs": [
    {
     "name": "stdout",
     "output_type": "stream",
     "text": [
      "dict_keys(['20190001', '20190002', '20190003'])\n",
      "dict_values(['홍길동', '이순신', '장보고'])\n",
      "dict_items([('20190001', '홍길동'), ('20190002', '이순신'), ('20190003', '장보고')])\n"
     ]
    }
   ],
   "source": [
    "# 리스트 타입의 딕셔너리? \n",
    "\n",
    "school = {'20190001':'홍길동', \n",
    "             '20190002':'이순신', \n",
    "             '20190003':'장보고'}\n",
    "\n",
    "print(school.keys())\n",
    "print(school.values())\n",
    "print(school.items())"
   ]
  },
  {
   "cell_type": "code",
   "execution_count": 68,
   "metadata": {},
   "outputs": [
    {
     "name": "stdout",
     "output_type": "stream",
     "text": [
      "2 * 1 =  2\n",
      "2 * 2 =  4\n",
      "2 * 3 =  6\n",
      "2 * 4 =  8\n",
      "2 * 5 = 10\n",
      "2 * 6 = 12\n",
      "2 * 7 = 14\n",
      "2 * 8 = 16\n",
      "2 * 9 = 18\n"
     ]
    }
   ],
   "source": [
    "# for문 사용하기\n",
    "\n",
    "for i in range(1, 10):\n",
    "    print('2 * %d = %2d' %(i, 2*i))"
   ]
  },
  {
   "cell_type": "code",
   "execution_count": 69,
   "metadata": {},
   "outputs": [
    {
     "name": "stdout",
     "output_type": "stream",
     "text": [
      " 9 * 9 = 81\n",
      " 9 * 8 = 72\n",
      " 9 * 7 = 63\n",
      " 9 * 6 = 54\n",
      " 9 * 5 = 45\n",
      " 9 * 4 = 36\n",
      " 9 * 3 = 27\n",
      " 9 * 2 = 18\n",
      " 9 * 1 =  9\n"
     ]
    }
   ],
   "source": [
    "# 9단을 거꾸로 출력하기 \n",
    "\n",
    "for i in range(9, 0 ,-1):\n",
    "    print(' 9 * %d = %2d'  %(i, 9*i))"
   ]
  },
  {
   "cell_type": "code",
   "execution_count": 70,
   "metadata": {},
   "outputs": [
    {
     "name": "stdout",
     "output_type": "stream",
     "text": [
      " 2 X 1 = 2\n",
      " 2 X 2 = 4\n",
      " 2 X 3 = 6\n",
      " 2 X 4 = 8\n",
      " 2 X 5 = 10\n",
      " 2 X 6 = 12\n",
      " 2 X 7 = 14\n",
      " 2 X 8 = 16\n",
      " 2 X 9 = 18\n",
      " 3 X 1 = 3\n",
      " 3 X 2 = 6\n",
      " 3 X 3 = 9\n",
      " 3 X 4 = 12\n",
      " 3 X 5 = 15\n",
      " 3 X 6 = 18\n",
      " 3 X 7 = 21\n",
      " 3 X 8 = 24\n",
      " 3 X 9 = 27\n",
      " 4 X 1 = 4\n",
      " 4 X 2 = 8\n",
      " 4 X 3 = 12\n",
      " 4 X 4 = 16\n",
      " 4 X 5 = 20\n",
      " 4 X 6 = 24\n",
      " 4 X 7 = 28\n",
      " 4 X 8 = 32\n",
      " 4 X 9 = 36\n",
      " 5 X 1 = 5\n",
      " 5 X 2 = 10\n",
      " 5 X 3 = 15\n",
      " 5 X 4 = 20\n",
      " 5 X 5 = 25\n",
      " 5 X 6 = 30\n",
      " 5 X 7 = 35\n",
      " 5 X 8 = 40\n",
      " 5 X 9 = 45\n",
      " 6 X 1 = 6\n",
      " 6 X 2 = 12\n",
      " 6 X 3 = 18\n",
      " 6 X 4 = 24\n",
      " 6 X 5 = 30\n",
      " 6 X 6 = 36\n",
      " 6 X 7 = 42\n",
      " 6 X 8 = 48\n",
      " 6 X 9 = 54\n",
      " 7 X 1 = 7\n",
      " 7 X 2 = 14\n",
      " 7 X 3 = 21\n",
      " 7 X 4 = 28\n",
      " 7 X 5 = 35\n",
      " 7 X 6 = 42\n",
      " 7 X 7 = 49\n",
      " 7 X 8 = 56\n",
      " 7 X 9 = 63\n",
      " 8 X 1 = 8\n",
      " 8 X 2 = 16\n",
      " 8 X 3 = 24\n",
      " 8 X 4 = 32\n",
      " 8 X 5 = 40\n",
      " 8 X 6 = 48\n",
      " 8 X 7 = 56\n",
      " 8 X 8 = 64\n",
      " 8 X 9 = 72\n",
      " 9 X 1 = 9\n",
      " 9 X 2 = 18\n",
      " 9 X 3 = 27\n",
      " 9 X 4 = 36\n",
      " 9 X 5 = 45\n",
      " 9 X 6 = 54\n",
      " 9 X 7 = 63\n",
      " 9 X 8 = 72\n",
      " 9 X 9 = 81\n"
     ]
    }
   ],
   "source": [
    "# 2단 ~ 9단까지 출력하기 \n",
    "\n",
    "for i in range(2, 10):\n",
    "    for j in range(1, 10):\n",
    "        print(' %d X %d = %d' %(i, j, i*j))"
   ]
  },
  {
   "cell_type": "code",
   "execution_count": 72,
   "metadata": {},
   "outputs": [
    {
     "name": "stdout",
     "output_type": "stream",
     "text": [
      "출력할 단을 입력하시오 : 88\n",
      "88 X 1 = 88\n",
      "88 X 2 = 176\n",
      "88 X 3 = 264\n",
      "88 X 4 = 352\n",
      "88 X 5 = 440\n",
      "88 X 6 = 528\n",
      "88 X 7 = 616\n",
      "88 X 8 = 704\n",
      "88 X 9 = 792\n"
     ]
    }
   ],
   "source": [
    "# 숫자를 입력받고 입력받은 숫자에 해당하는 구구단 출력\n",
    "\n",
    "number = int(input('출력할 단을 입력하시오 : '))\n",
    "\n",
    "for i in range(1, 10):\n",
    "    print('%d X %d = %d' %(number, i, number*i))"
   ]
  },
  {
   "cell_type": "code",
   "execution_count": null,
   "metadata": {},
   "outputs": [],
   "source": []
  },
  {
   "cell_type": "code",
   "execution_count": null,
   "metadata": {},
   "outputs": [],
   "source": []
  },
  {
   "cell_type": "code",
   "execution_count": null,
   "metadata": {},
   "outputs": [],
   "source": []
  },
  {
   "cell_type": "code",
   "execution_count": null,
   "metadata": {},
   "outputs": [],
   "source": []
  },
  {
   "cell_type": "code",
   "execution_count": null,
   "metadata": {},
   "outputs": [],
   "source": []
  }
 ],
 "metadata": {
  "kernelspec": {
   "display_name": "Python 3",
   "language": "python",
   "name": "python3"
  },
  "language_info": {
   "codemirror_mode": {
    "name": "ipython",
    "version": 3
   },
   "file_extension": ".py",
   "mimetype": "text/x-python",
   "name": "python",
   "nbconvert_exporter": "python",
   "pygments_lexer": "ipython3",
   "version": "3.7.7"
  }
 },
 "nbformat": 4,
 "nbformat_minor": 4
}
